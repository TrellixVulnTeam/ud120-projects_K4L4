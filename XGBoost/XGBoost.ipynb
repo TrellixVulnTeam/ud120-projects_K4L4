{
 "cells": [
  {
   "cell_type": "code",
   "execution_count": 5,
   "metadata": {},
   "outputs": [
    {
     "name": "stdout",
     "output_type": "stream",
     "text": [
      "XGBClassifier(base_score=0.5, booster='gbtree', colsample_bylevel=1,\n",
      "       colsample_bytree=1, gamma=0, learning_rate=0.1, max_delta_step=0,\n",
      "       max_depth=3, min_child_weight=1, missing=None, n_estimators=100,\n",
      "       n_jobs=1, nthread=None, objective='multi:softprob', random_state=0,\n",
      "       reg_alpha=0, reg_lambda=1, scale_pos_weight=1, seed=None,\n",
      "       silent=True, subsample=1)\n",
      "XGBoost Accuracy: 88.00%\n"
     ]
    },
    {
     "name": "stderr",
     "output_type": "stream",
     "text": [
      "C:\\ProgramData\\Anaconda3\\envs\\tensorflow\\lib\\site-packages\\sklearn\\preprocessing\\label.py:151: DeprecationWarning: The truth value of an empty array is ambiguous. Returning False, but in future this will result in an error. Use `array.size > 0` to check that an array is not empty.\n",
      "  if diff:\n"
     ]
    }
   ],
   "source": [
    "import numpy as np\n",
    "import xgboost as xgb\n",
    "from sklearn.metrics import accuracy_score\n",
    "import numpy as np\n",
    "import matplotlib.pyplot as plt\n",
    "from sklearn import datasets,svm\n",
    "from sklearn.datasets import load_svmlight_file\n",
    "from sklearn.model_selection import train_test_split\n",
    "iris = datasets.load_iris()\n",
    "X_train = iris.data[:, :2]  # we only take the first two features.\n",
    "y_train = iris.target\n",
    "\n",
    "train_X = iris.data[:, :2]  # we only take the first two features.\n",
    "train_Y = iris.target\n",
    "\n",
    "test_X = iris.data[:, :2]  # we only take the first two features.\n",
    "test_Y = iris.target\n",
    "\n",
    "### first xgboost\n",
    "xgm = xgb.XGBClassifier()\n",
    "xgm.fit(X_train, y_train)\n",
    "y_pred = xgm.predict(X_train)\n",
    "predictions = [round(value) for value in y_pred]\n",
    "# evaluate predictions\n",
    "accuracy = accuracy_score(y_train, predictions)\n",
    "print(xgm)\n",
    "print(\"XGBoost Accuracy: %.2f%%\" % (accuracy * 100.0))"
   ]
  },
  {
   "cell_type": "code",
   "execution_count": 6,
   "metadata": {
    "collapsed": true
   },
   "outputs": [],
   "source": [
    "X = iris.data[:, :2]  # we only take the first two features.\n",
    "Y = iris.target\n",
    "seed = 7\n",
    "test_size = 0.33\n",
    "X_train, X_test, y_train, y_test = train_test_split(X, Y, test_size=test_size, random_state=seed)"
   ]
  },
  {
   "cell_type": "code",
   "execution_count": 9,
   "metadata": {},
   "outputs": [
    {
     "data": {
      "text/plain": [
       "XGBClassifier(base_score=0.5, booster='gbtree', colsample_bylevel=1,\n",
       "       colsample_bytree=1, gamma=0, learning_rate=0.1, max_delta_step=0,\n",
       "       max_depth=3, min_child_weight=1, missing=None, n_estimators=100,\n",
       "       n_jobs=1, nthread=None, objective='multi:softprob', random_state=0,\n",
       "       reg_alpha=0, reg_lambda=1, scale_pos_weight=1, seed=None,\n",
       "       silent=True, subsample=1)"
      ]
     },
     "execution_count": 9,
     "metadata": {},
     "output_type": "execute_result"
    }
   ],
   "source": [
    "model = xgb.XGBClassifier()\n",
    "model.fit(X_train, y_train)"
   ]
  },
  {
   "cell_type": "code",
   "execution_count": 15,
   "metadata": {},
   "outputs": [
    {
     "ename": "XGBoostError",
     "evalue": "need to call fit beforehand",
     "output_type": "error",
     "traceback": [
      "\u001b[1;31m---------------------------------------------------------------------------\u001b[0m",
      "\u001b[1;31mXGBoostError\u001b[0m                              Traceback (most recent call last)",
      "\u001b[1;32m<ipython-input-15-78a7f2fc937e>\u001b[0m in \u001b[0;36m<module>\u001b[1;34m()\u001b[0m\n\u001b[1;32m----> 1\u001b[1;33m \u001b[0my_pred\u001b[0m \u001b[1;33m=\u001b[0m \u001b[0mmodel\u001b[0m\u001b[1;33m.\u001b[0m\u001b[0mpredict\u001b[0m\u001b[1;33m(\u001b[0m\u001b[0mX_test\u001b[0m\u001b[1;33m)\u001b[0m\u001b[1;33m\u001b[0m\u001b[0m\n\u001b[0m\u001b[0;32m      2\u001b[0m \u001b[0mpredictions\u001b[0m \u001b[1;33m=\u001b[0m \u001b[1;33m[\u001b[0m\u001b[0mround\u001b[0m\u001b[1;33m(\u001b[0m\u001b[0mvalue\u001b[0m\u001b[1;33m)\u001b[0m \u001b[1;32mfor\u001b[0m \u001b[0mvalue\u001b[0m \u001b[1;32min\u001b[0m \u001b[0my_pred\u001b[0m\u001b[1;33m]\u001b[0m\u001b[1;33m\u001b[0m\u001b[0m\n\u001b[0;32m      3\u001b[0m \u001b[0maccuracy\u001b[0m \u001b[1;33m=\u001b[0m \u001b[0maccuracy_score\u001b[0m\u001b[1;33m(\u001b[0m\u001b[0my_test\u001b[0m\u001b[1;33m,\u001b[0m \u001b[0mpredictions\u001b[0m\u001b[1;33m)\u001b[0m\u001b[1;33m\u001b[0m\u001b[0m\n\u001b[0;32m      4\u001b[0m \u001b[0mprint\u001b[0m\u001b[1;33m(\u001b[0m\u001b[1;34m\"Accuracy: %.2f%%\"\u001b[0m \u001b[1;33m%\u001b[0m \u001b[1;33m(\u001b[0m\u001b[0maccuracy\u001b[0m \u001b[1;33m*\u001b[0m \u001b[1;36m100.0\u001b[0m\u001b[1;33m)\u001b[0m\u001b[1;33m)\u001b[0m\u001b[1;33m\u001b[0m\u001b[0m\n",
      "\u001b[1;32mC:\\ProgramData\\Anaconda3\\envs\\tensorflow\\lib\\site-packages\\xgboost\\sklearn.py\u001b[0m in \u001b[0;36mpredict\u001b[1;34m(self, data, output_margin, ntree_limit)\u001b[0m\n\u001b[0;32m    555\u001b[0m         \"\"\"\n\u001b[0;32m    556\u001b[0m         \u001b[0mtest_dmatrix\u001b[0m \u001b[1;33m=\u001b[0m \u001b[0mDMatrix\u001b[0m\u001b[1;33m(\u001b[0m\u001b[0mdata\u001b[0m\u001b[1;33m,\u001b[0m \u001b[0mmissing\u001b[0m\u001b[1;33m=\u001b[0m\u001b[0mself\u001b[0m\u001b[1;33m.\u001b[0m\u001b[0mmissing\u001b[0m\u001b[1;33m,\u001b[0m \u001b[0mnthread\u001b[0m\u001b[1;33m=\u001b[0m\u001b[0mself\u001b[0m\u001b[1;33m.\u001b[0m\u001b[0mn_jobs\u001b[0m\u001b[1;33m)\u001b[0m\u001b[1;33m\u001b[0m\u001b[0m\n\u001b[1;32m--> 557\u001b[1;33m         class_probs = self.get_booster().predict(test_dmatrix,\n\u001b[0m\u001b[0;32m    558\u001b[0m                                                  \u001b[0moutput_margin\u001b[0m\u001b[1;33m=\u001b[0m\u001b[0moutput_margin\u001b[0m\u001b[1;33m,\u001b[0m\u001b[1;33m\u001b[0m\u001b[0m\n\u001b[0;32m    559\u001b[0m                                                  ntree_limit=ntree_limit)\n",
      "\u001b[1;32mC:\\ProgramData\\Anaconda3\\envs\\tensorflow\\lib\\site-packages\\xgboost\\sklearn.py\u001b[0m in \u001b[0;36mget_booster\u001b[1;34m(self)\u001b[0m\n\u001b[0;32m    177\u001b[0m         \"\"\"\n\u001b[0;32m    178\u001b[0m         \u001b[1;32mif\u001b[0m \u001b[0mself\u001b[0m\u001b[1;33m.\u001b[0m\u001b[0m_Booster\u001b[0m \u001b[1;32mis\u001b[0m \u001b[1;32mNone\u001b[0m\u001b[1;33m:\u001b[0m\u001b[1;33m\u001b[0m\u001b[0m\n\u001b[1;32m--> 179\u001b[1;33m             \u001b[1;32mraise\u001b[0m \u001b[0mXGBoostError\u001b[0m\u001b[1;33m(\u001b[0m\u001b[1;34m'need to call fit beforehand'\u001b[0m\u001b[1;33m)\u001b[0m\u001b[1;33m\u001b[0m\u001b[0m\n\u001b[0m\u001b[0;32m    180\u001b[0m         \u001b[1;32mreturn\u001b[0m \u001b[0mself\u001b[0m\u001b[1;33m.\u001b[0m\u001b[0m_Booster\u001b[0m\u001b[1;33m\u001b[0m\u001b[0m\n\u001b[0;32m    181\u001b[0m \u001b[1;33m\u001b[0m\u001b[0m\n",
      "\u001b[1;31mXGBoostError\u001b[0m: need to call fit beforehand"
     ]
    }
   ],
   "source": [
    "y_pred = model.predict(X_test)\n",
    "predictions = [round(value) for value in y_pred]\n",
    "accuracy = accuracy_score(y_test, predictions)\n",
    "print(\"Accuracy: %.2f%%\" % (accuracy * 100.0))"
   ]
  },
  {
   "cell_type": "code",
   "execution_count": 20,
   "metadata": {},
   "outputs": [
    {
     "data": {
      "image/png": "[encoded data removed]",
      "text/plain": [
       "<matplotlib.figure.Figure at 0xea100f0>"
      ]
     },
     "metadata": {},
     "output_type": "display_data"
    }
   ],
   "source": [
    "from xgboost import plot_importance\n",
    "from matplotlib import pyplot\n",
    "model.fit(X_train, y_train)\n",
    "plot_importance(model)\n",
    "pyplot.show()"
   ]
  },
  {
   "cell_type": "code",
   "execution_count": 7,
   "metadata": {
    "collapsed": true
   },
   "outputs": [],
   "source": [
    "### second xgboost\n",
    "\n",
    "xg_train = xgb.DMatrix( train_X, label=train_Y)\n",
    "xg_test = xgb.DMatrix(test_X, label=test_Y)\n",
    "# setup parameters for xgboost\n",
    "param = {}\n",
    "# use softmax multi-class classification\n",
    "param['objective'] = 'multi:softmax'\n",
    "# scale weight of positive examples\n",
    "param['eta'] = 0.1\n",
    "param['max_depth'] = 3\n",
    "param['silent'] = True\n",
    "param['nthread'] = -1\n",
    "param['num_class'] = 3"
   ]
  },
  {
   "cell_type": "code",
   "execution_count": 3,
   "metadata": {},
   "outputs": [
    {
     "name": "stdout",
     "output_type": "stream",
     "text": [
      "[0]\ttrain-merror:0.18\ttest-merror:0.18\n",
      "[1]\ttrain-merror:0.18\ttest-merror:0.18\n",
      "[2]\ttrain-merror:0.18\ttest-merror:0.18\n",
      "[3]\ttrain-merror:0.18\ttest-merror:0.18\n",
      "[4]\ttrain-merror:0.173333\ttest-merror:0.173333\n",
      "[5]\ttrain-merror:0.173333\ttest-merror:0.173333\n",
      "[6]\ttrain-merror:0.173333\ttest-merror:0.173333\n",
      "[7]\ttrain-merror:0.173333\ttest-merror:0.173333\n",
      "[8]\ttrain-merror:0.173333\ttest-merror:0.173333\n",
      "[9]\ttrain-merror:0.18\ttest-merror:0.18\n",
      "[10]\ttrain-merror:0.18\ttest-merror:0.18\n",
      "[11]\ttrain-merror:0.18\ttest-merror:0.18\n",
      "[12]\ttrain-merror:0.18\ttest-merror:0.18\n",
      "[13]\ttrain-merror:0.18\ttest-merror:0.18\n",
      "[14]\ttrain-merror:0.18\ttest-merror:0.18\n",
      "[15]\ttrain-merror:0.18\ttest-merror:0.18\n",
      "[16]\ttrain-merror:0.18\ttest-merror:0.18\n",
      "[17]\ttrain-merror:0.18\ttest-merror:0.18\n",
      "[18]\ttrain-merror:0.18\ttest-merror:0.18\n",
      "[19]\ttrain-merror:0.173333\ttest-merror:0.173333\n",
      "[20]\ttrain-merror:0.173333\ttest-merror:0.173333\n",
      "[21]\ttrain-merror:0.173333\ttest-merror:0.173333\n",
      "[22]\ttrain-merror:0.173333\ttest-merror:0.173333\n",
      "[23]\ttrain-merror:0.173333\ttest-merror:0.173333\n",
      "[24]\ttrain-merror:0.173333\ttest-merror:0.173333\n",
      "[25]\ttrain-merror:0.173333\ttest-merror:0.173333\n",
      "[26]\ttrain-merror:0.173333\ttest-merror:0.173333\n",
      "[27]\ttrain-merror:0.173333\ttest-merror:0.173333\n",
      "[28]\ttrain-merror:0.166667\ttest-merror:0.166667\n",
      "[29]\ttrain-merror:0.166667\ttest-merror:0.166667\n",
      "[30]\ttrain-merror:0.166667\ttest-merror:0.166667\n",
      "[31]\ttrain-merror:0.166667\ttest-merror:0.166667\n",
      "[32]\ttrain-merror:0.166667\ttest-merror:0.166667\n",
      "[33]\ttrain-merror:0.166667\ttest-merror:0.166667\n",
      "[34]\ttrain-merror:0.166667\ttest-merror:0.166667\n",
      "[35]\ttrain-merror:0.16\ttest-merror:0.16\n",
      "[36]\ttrain-merror:0.153333\ttest-merror:0.153333\n",
      "[37]\ttrain-merror:0.153333\ttest-merror:0.153333\n",
      "[38]\ttrain-merror:0.153333\ttest-merror:0.153333\n",
      "[39]\ttrain-merror:0.146667\ttest-merror:0.146667\n",
      "[40]\ttrain-merror:0.146667\ttest-merror:0.146667\n",
      "[41]\ttrain-merror:0.146667\ttest-merror:0.146667\n",
      "[42]\ttrain-merror:0.146667\ttest-merror:0.146667\n",
      "[43]\ttrain-merror:0.146667\ttest-merror:0.146667\n",
      "[44]\ttrain-merror:0.146667\ttest-merror:0.146667\n",
      "[45]\ttrain-merror:0.146667\ttest-merror:0.146667\n",
      "[46]\ttrain-merror:0.146667\ttest-merror:0.146667\n",
      "[47]\ttrain-merror:0.146667\ttest-merror:0.146667\n",
      "[48]\ttrain-merror:0.146667\ttest-merror:0.146667\n",
      "[49]\ttrain-merror:0.146667\ttest-merror:0.146667\n",
      "[50]\ttrain-merror:0.146667\ttest-merror:0.146667\n",
      "[51]\ttrain-merror:0.146667\ttest-merror:0.146667\n",
      "[52]\ttrain-merror:0.146667\ttest-merror:0.146667\n",
      "[53]\ttrain-merror:0.146667\ttest-merror:0.146667\n",
      "[54]\ttrain-merror:0.146667\ttest-merror:0.146667\n",
      "[55]\ttrain-merror:0.146667\ttest-merror:0.146667\n",
      "[56]\ttrain-merror:0.146667\ttest-merror:0.146667\n",
      "[57]\ttrain-merror:0.146667\ttest-merror:0.146667\n",
      "[58]\ttrain-merror:0.146667\ttest-merror:0.146667\n",
      "[59]\ttrain-merror:0.146667\ttest-merror:0.146667\n",
      "[60]\ttrain-merror:0.146667\ttest-merror:0.146667\n",
      "[61]\ttrain-merror:0.146667\ttest-merror:0.146667\n",
      "[62]\ttrain-merror:0.146667\ttest-merror:0.146667\n",
      "[63]\ttrain-merror:0.146667\ttest-merror:0.146667\n",
      "[64]\ttrain-merror:0.146667\ttest-merror:0.146667\n",
      "[65]\ttrain-merror:0.146667\ttest-merror:0.146667\n",
      "[66]\ttrain-merror:0.146667\ttest-merror:0.146667\n",
      "[67]\ttrain-merror:0.146667\ttest-merror:0.146667\n",
      "[68]\ttrain-merror:0.146667\ttest-merror:0.146667\n",
      "[69]\ttrain-merror:0.146667\ttest-merror:0.146667\n",
      "[70]\ttrain-merror:0.146667\ttest-merror:0.146667\n",
      "[71]\ttrain-merror:0.146667\ttest-merror:0.146667\n",
      "[72]\ttrain-merror:0.146667\ttest-merror:0.146667\n",
      "[73]\ttrain-merror:0.146667\ttest-merror:0.146667\n",
      "[74]\ttrain-merror:0.146667\ttest-merror:0.146667\n",
      "[75]\ttrain-merror:0.146667\ttest-merror:0.146667\n",
      "[76]\ttrain-merror:0.146667\ttest-merror:0.146667\n",
      "[77]\ttrain-merror:0.146667\ttest-merror:0.146667\n",
      "[78]\ttrain-merror:0.146667\ttest-merror:0.146667\n",
      "[79]\ttrain-merror:0.146667\ttest-merror:0.146667\n",
      "[80]\ttrain-merror:0.146667\ttest-merror:0.146667\n",
      "[81]\ttrain-merror:0.146667\ttest-merror:0.146667\n",
      "[82]\ttrain-merror:0.146667\ttest-merror:0.146667\n",
      "[83]\ttrain-merror:0.146667\ttest-merror:0.146667\n",
      "[84]\ttrain-merror:0.146667\ttest-merror:0.146667\n",
      "[85]\ttrain-merror:0.146667\ttest-merror:0.146667\n",
      "[86]\ttrain-merror:0.146667\ttest-merror:0.146667\n",
      "[87]\ttrain-merror:0.146667\ttest-merror:0.146667\n",
      "[88]\ttrain-merror:0.14\ttest-merror:0.14\n",
      "[89]\ttrain-merror:0.133333\ttest-merror:0.133333\n",
      "[90]\ttrain-merror:0.133333\ttest-merror:0.133333\n",
      "[91]\ttrain-merror:0.14\ttest-merror:0.14\n",
      "[92]\ttrain-merror:0.133333\ttest-merror:0.133333\n",
      "[93]\ttrain-merror:0.126667\ttest-merror:0.126667\n",
      "[94]\ttrain-merror:0.126667\ttest-merror:0.126667\n",
      "[95]\ttrain-merror:0.126667\ttest-merror:0.126667\n",
      "[96]\ttrain-merror:0.126667\ttest-merror:0.126667\n",
      "[97]\ttrain-merror:0.126667\ttest-merror:0.126667\n",
      "[98]\ttrain-merror:0.12\ttest-merror:0.12\n",
      "[99]\ttrain-merror:0.12\ttest-merror:0.12\n",
      "predicting, classification error=0.120000\n",
      "[0]\ttrain-merror:0.18\ttest-merror:0.18\n",
      "[1]\ttrain-merror:0.18\ttest-merror:0.18\n",
      "[2]\ttrain-merror:0.18\ttest-merror:0.18\n",
      "[3]\ttrain-merror:0.18\ttest-merror:0.18\n",
      "[4]\ttrain-merror:0.173333\ttest-merror:0.173333\n",
      "[5]\ttrain-merror:0.173333\ttest-merror:0.173333\n",
      "[6]\ttrain-merror:0.173333\ttest-merror:0.173333\n",
      "[7]\ttrain-merror:0.173333\ttest-merror:0.173333\n",
      "[8]\ttrain-merror:0.173333\ttest-merror:0.173333\n",
      "[9]\ttrain-merror:0.18\ttest-merror:0.18\n",
      "[10]\ttrain-merror:0.18\ttest-merror:0.18\n",
      "[11]\ttrain-merror:0.18\ttest-merror:0.18\n",
      "[12]\ttrain-merror:0.18\ttest-merror:0.18\n",
      "[13]\ttrain-merror:0.18\ttest-merror:0.18\n",
      "[14]\ttrain-merror:0.18\ttest-merror:0.18\n",
      "[15]\ttrain-merror:0.18\ttest-merror:0.18\n",
      "[16]\ttrain-merror:0.18\ttest-merror:0.18\n",
      "[17]\ttrain-merror:0.18\ttest-merror:0.18\n",
      "[18]\ttrain-merror:0.18\ttest-merror:0.18\n",
      "[19]\ttrain-merror:0.173333\ttest-merror:0.173333\n",
      "[20]\ttrain-merror:0.173333\ttest-merror:0.173333\n",
      "[21]\ttrain-merror:0.173333\ttest-merror:0.173333\n",
      "[22]\ttrain-merror:0.173333\ttest-merror:0.173333\n",
      "[23]\ttrain-merror:0.173333\ttest-merror:0.173333\n",
      "[24]\ttrain-merror:0.173333\ttest-merror:0.173333\n",
      "[25]\ttrain-merror:0.173333\ttest-merror:0.173333\n",
      "[26]\ttrain-merror:0.173333\ttest-merror:0.173333\n",
      "[27]\ttrain-merror:0.173333\ttest-merror:0.173333\n",
      "[28]\ttrain-merror:0.166667\ttest-merror:0.166667\n",
      "[29]\ttrain-merror:0.166667\ttest-merror:0.166667\n",
      "[30]\ttrain-merror:0.166667\ttest-merror:0.166667\n",
      "[31]\ttrain-merror:0.166667\ttest-merror:0.166667\n",
      "[32]\ttrain-merror:0.166667\ttest-merror:0.166667\n",
      "[33]\ttrain-merror:0.166667\ttest-merror:0.166667\n",
      "[34]\ttrain-merror:0.166667\ttest-merror:0.166667\n",
      "[35]\ttrain-merror:0.16\ttest-merror:0.16\n",
      "[36]\ttrain-merror:0.153333\ttest-merror:0.153333\n",
      "[37]\ttrain-merror:0.153333\ttest-merror:0.153333\n",
      "[38]\ttrain-merror:0.153333\ttest-merror:0.153333\n",
      "[39]\ttrain-merror:0.146667\ttest-merror:0.146667\n",
      "[40]\ttrain-merror:0.146667\ttest-merror:0.146667\n",
      "[41]\ttrain-merror:0.146667\ttest-merror:0.146667\n",
      "[42]\ttrain-merror:0.146667\ttest-merror:0.146667\n",
      "[43]\ttrain-merror:0.146667\ttest-merror:0.146667\n",
      "[44]\ttrain-merror:0.146667\ttest-merror:0.146667\n",
      "[45]\ttrain-merror:0.146667\ttest-merror:0.146667\n",
      "[46]\ttrain-merror:0.146667\ttest-merror:0.146667\n",
      "[47]\ttrain-merror:0.146667\ttest-merror:0.146667\n",
      "[48]\ttrain-merror:0.146667\ttest-merror:0.146667\n",
      "[49]\ttrain-merror:0.146667\ttest-merror:0.146667\n",
      "[50]\ttrain-merror:0.146667\ttest-merror:0.146667\n",
      "[51]\ttrain-merror:0.146667\ttest-merror:0.146667\n",
      "[52]\ttrain-merror:0.146667\ttest-merror:0.146667\n",
      "[53]\ttrain-merror:0.146667\ttest-merror:0.146667\n",
      "[54]\ttrain-merror:0.146667\ttest-merror:0.146667\n",
      "[55]\ttrain-merror:0.146667\ttest-merror:0.146667\n",
      "[56]\ttrain-merror:0.146667\ttest-merror:0.146667\n",
      "[57]\ttrain-merror:0.146667\ttest-merror:0.146667\n",
      "[58]\ttrain-merror:0.146667\ttest-merror:0.146667\n",
      "[59]\ttrain-merror:0.146667\ttest-merror:0.146667\n",
      "[60]\ttrain-merror:0.146667\ttest-merror:0.146667\n",
      "[61]\ttrain-merror:0.146667\ttest-merror:0.146667\n",
      "[62]\ttrain-merror:0.146667\ttest-merror:0.146667\n",
      "[63]\ttrain-merror:0.146667\ttest-merror:0.146667\n",
      "[64]\ttrain-merror:0.146667\ttest-merror:0.146667\n",
      "[65]\ttrain-merror:0.146667\ttest-merror:0.146667\n",
      "[66]\ttrain-merror:0.146667\ttest-merror:0.146667\n",
      "[67]\ttrain-merror:0.146667\ttest-merror:0.146667\n",
      "[68]\ttrain-merror:0.146667\ttest-merror:0.146667\n",
      "[69]\ttrain-merror:0.146667\ttest-merror:0.146667\n",
      "[70]\ttrain-merror:0.146667\ttest-merror:0.146667\n",
      "[71]\ttrain-merror:0.146667\ttest-merror:0.146667\n",
      "[72]\ttrain-merror:0.146667\ttest-merror:0.146667\n",
      "[73]\ttrain-merror:0.146667\ttest-merror:0.146667\n",
      "[74]\ttrain-merror:0.146667\ttest-merror:0.146667\n",
      "[75]\ttrain-merror:0.146667\ttest-merror:0.146667\n"
     ]
    },
    {
     "name": "stdout",
     "output_type": "stream",
     "text": [
      "[76]\ttrain-merror:0.146667\ttest-merror:0.146667\n",
      "[77]\ttrain-merror:0.146667\ttest-merror:0.146667\n",
      "[78]\ttrain-merror:0.146667\ttest-merror:0.146667\n",
      "[79]\ttrain-merror:0.146667\ttest-merror:0.146667\n",
      "[80]\ttrain-merror:0.146667\ttest-merror:0.146667\n",
      "[81]\ttrain-merror:0.146667\ttest-merror:0.146667\n",
      "[82]\ttrain-merror:0.146667\ttest-merror:0.146667\n",
      "[83]\ttrain-merror:0.146667\ttest-merror:0.146667\n",
      "[84]\ttrain-merror:0.146667\ttest-merror:0.146667\n",
      "[85]\ttrain-merror:0.146667\ttest-merror:0.146667\n",
      "[86]\ttrain-merror:0.146667\ttest-merror:0.146667\n",
      "[87]\ttrain-merror:0.146667\ttest-merror:0.146667\n",
      "[88]\ttrain-merror:0.14\ttest-merror:0.14\n",
      "[89]\ttrain-merror:0.133333\ttest-merror:0.133333\n",
      "[90]\ttrain-merror:0.133333\ttest-merror:0.133333\n",
      "[91]\ttrain-merror:0.14\ttest-merror:0.14\n",
      "[92]\ttrain-merror:0.133333\ttest-merror:0.133333\n",
      "[93]\ttrain-merror:0.126667\ttest-merror:0.126667\n",
      "[94]\ttrain-merror:0.126667\ttest-merror:0.126667\n",
      "[95]\ttrain-merror:0.126667\ttest-merror:0.126667\n",
      "[96]\ttrain-merror:0.126667\ttest-merror:0.126667\n",
      "[97]\ttrain-merror:0.126667\ttest-merror:0.126667\n",
      "[98]\ttrain-merror:0.12\ttest-merror:0.12\n",
      "[99]\ttrain-merror:0.12\ttest-merror:0.12\n",
      "predicting, classification error=0.120000\n"
     ]
    }
   ],
   "source": [
    "watchlist = [ (xg_train,'train'), (xg_test, 'test') ]\n",
    "num_round = 100\n",
    "bst = xgb.train(param, xg_train, num_round, watchlist );\n",
    "# get prediction\n",
    "pred = bst.predict( xg_test );\n",
    "\n",
    "print ('predicting, classification error=%f' % (sum( int(pred[i]) != test_Y[i] for i in range(len(test_Y))) / float(len(test_Y)) ))\n",
    "\n",
    "# do the same thing again, but output probabilities\n",
    "param['objective'] = 'multi:softprob'\n",
    "bst = xgb.train(param, xg_train, num_round, watchlist );\n",
    "# Note: this convention has been changed since xgboost-unity\n",
    "# get prediction, this is in 1D array, need reshape to (ndata, nclass)\n",
    "yprob = bst.predict(xg_test ).reshape( test_Y.shape[0], 3 )\n",
    "ylabel = np.argmax(yprob, axis=1)\n",
    "\n",
    "print ('predicting, classification error=%f' % (sum( int(ylabel[i]) != test_Y[i] for i in range(len(test_Y))) / float(len(test_Y)) ))"
   ]
  },
  {
   "cell_type": "code",
   "execution_count": 21,
   "metadata": {},
   "outputs": [
    {
     "ename": "ValueError",
     "evalue": "could not convert string to float: b'p,x,s,n,t,p,f,c,n,k,e,e,s,s,w,w,p,w,o,p,k,s,u'",
     "output_type": "error",
     "traceback": [
      "\u001b[1;31m---------------------------------------------------------------------------\u001b[0m",
      "\u001b[1;31mValueError\u001b[0m                                Traceback (most recent call last)",
      "\u001b[1;32m<ipython-input-21-87354194bbbe>\u001b[0m in \u001b[0;36m<module>\u001b[1;34m()\u001b[0m\n\u001b[0;32m      1\u001b[0m \u001b[1;31m## compare two data input method.\u001b[0m\u001b[1;33m\u001b[0m\u001b[1;33m\u001b[0m\u001b[0m\n\u001b[0;32m      2\u001b[0m \u001b[1;32mimport\u001b[0m \u001b[0mos\u001b[0m\u001b[1;33m\u001b[0m\u001b[0m\n\u001b[1;32m----> 3\u001b[1;33m \u001b[0mX_train\u001b[0m\u001b[1;33m,\u001b[0m \u001b[0my_train\u001b[0m\u001b[1;33m=\u001b[0m\u001b[0mload_svmlight_file\u001b[0m\u001b[1;33m(\u001b[0m\u001b[0mos\u001b[0m\u001b[1;33m.\u001b[0m\u001b[0mgetcwd\u001b[0m\u001b[1;33m(\u001b[0m\u001b[1;33m)\u001b[0m \u001b[1;33m+\u001b[0m \u001b[1;34m'/heart_scale/agaricus-lepiota.data.txt'\u001b[0m\u001b[1;33m)\u001b[0m \u001b[1;31m# loading datasets in the svmlight/libsvm format.\u001b[0m\u001b[1;33m\u001b[0m\u001b[0m\n\u001b[0m\u001b[0;32m      4\u001b[0m \u001b[0mxgm\u001b[0m \u001b[1;33m=\u001b[0m \u001b[0mxgb\u001b[0m\u001b[1;33m.\u001b[0m\u001b[0mXGBClassifier\u001b[0m\u001b[1;33m(\u001b[0m\u001b[0mmax_depth\u001b[0m\u001b[1;33m=\u001b[0m\u001b[1;36m3\u001b[0m\u001b[1;33m)\u001b[0m\u001b[1;33m\u001b[0m\u001b[0m\n\u001b[0;32m      5\u001b[0m \u001b[0mxgm\u001b[0m\u001b[1;33m.\u001b[0m\u001b[0mfit\u001b[0m\u001b[1;33m(\u001b[0m\u001b[0mX_train\u001b[0m\u001b[1;33m,\u001b[0m \u001b[0my_train\u001b[0m\u001b[1;33m)\u001b[0m\u001b[1;33m\u001b[0m\u001b[0m\n",
      "\u001b[1;32mC:\\ProgramData\\Anaconda3\\envs\\tensorflow\\lib\\site-packages\\sklearn\\datasets\\svmlight_format.py\u001b[0m in \u001b[0;36mload_svmlight_file\u001b[1;34m(f, n_features, dtype, multilabel, zero_based, query_id, offset, length)\u001b[0m\n\u001b[0;32m    145\u001b[0m     \"\"\"\n\u001b[0;32m    146\u001b[0m     return tuple(load_svmlight_files([f], n_features, dtype, multilabel,\n\u001b[1;32m--> 147\u001b[1;33m                                      zero_based, query_id, offset, length))\n\u001b[0m\u001b[0;32m    148\u001b[0m \u001b[1;33m\u001b[0m\u001b[0m\n\u001b[0;32m    149\u001b[0m \u001b[1;33m\u001b[0m\u001b[0m\n",
      "\u001b[1;32mC:\\ProgramData\\Anaconda3\\envs\\tensorflow\\lib\\site-packages\\sklearn\\datasets\\svmlight_format.py\u001b[0m in \u001b[0;36mload_svmlight_files\u001b[1;34m(files, n_features, dtype, multilabel, zero_based, query_id, offset, length)\u001b[0m\n\u001b[0;32m    288\u001b[0m     r = [_open_and_load(f, dtype, multilabel, bool(zero_based), bool(query_id),\n\u001b[0;32m    289\u001b[0m                         offset=offset, length=length)\n\u001b[1;32m--> 290\u001b[1;33m          for f in files]\n\u001b[0m\u001b[0;32m    291\u001b[0m \u001b[1;33m\u001b[0m\u001b[0m\n\u001b[0;32m    292\u001b[0m     if (zero_based is False or\n",
      "\u001b[1;32mC:\\ProgramData\\Anaconda3\\envs\\tensorflow\\lib\\site-packages\\sklearn\\datasets\\svmlight_format.py\u001b[0m in \u001b[0;36m<listcomp>\u001b[1;34m(.0)\u001b[0m\n\u001b[0;32m    288\u001b[0m     r = [_open_and_load(f, dtype, multilabel, bool(zero_based), bool(query_id),\n\u001b[0;32m    289\u001b[0m                         offset=offset, length=length)\n\u001b[1;32m--> 290\u001b[1;33m          for f in files]\n\u001b[0m\u001b[0;32m    291\u001b[0m \u001b[1;33m\u001b[0m\u001b[0m\n\u001b[0;32m    292\u001b[0m     if (zero_based is False or\n",
      "\u001b[1;32mC:\\ProgramData\\Anaconda3\\envs\\tensorflow\\lib\\site-packages\\sklearn\\datasets\\svmlight_format.py\u001b[0m in \u001b[0;36m_open_and_load\u001b[1;34m(f, dtype, multilabel, zero_based, query_id, offset, length)\u001b[0m\n\u001b[0;32m    176\u001b[0m             \u001b[0mactual_dtype\u001b[0m\u001b[1;33m,\u001b[0m \u001b[0mdata\u001b[0m\u001b[1;33m,\u001b[0m \u001b[0mind\u001b[0m\u001b[1;33m,\u001b[0m \u001b[0mindptr\u001b[0m\u001b[1;33m,\u001b[0m \u001b[0mlabels\u001b[0m\u001b[1;33m,\u001b[0m \u001b[0mquery\u001b[0m \u001b[1;33m=\u001b[0m\u001b[0;31m \u001b[0m\u001b[0;31m\\\u001b[0m\u001b[1;33m\u001b[0m\u001b[0m\n\u001b[0;32m    177\u001b[0m                 _load_svmlight_file(f, dtype, multilabel, zero_based, query_id,\n\u001b[1;32m--> 178\u001b[1;33m                                     offset, length)\n\u001b[0m\u001b[0;32m    179\u001b[0m \u001b[1;33m\u001b[0m\u001b[0m\n\u001b[0;32m    180\u001b[0m     \u001b[1;31m# convert from array.array, give data the right dtype\u001b[0m\u001b[1;33m\u001b[0m\u001b[1;33m\u001b[0m\u001b[0m\n",
      "\u001b[1;32msklearn\\datasets\\_svmlight_format.pyx\u001b[0m in \u001b[0;36msklearn.datasets._svmlight_format._load_svmlight_file\u001b[1;34m()\u001b[0m\n",
      "\u001b[1;31mValueError\u001b[0m: could not convert string to float: b'p,x,s,n,t,p,f,c,n,k,e,e,s,s,w,w,p,w,o,p,k,s,u'"
     ]
    }
   ],
   "source": [
    "## compare two data input method.\n",
    "import os\n",
    "X_train, y_train=load_svmlight_file(os.getcwd() + '/heart_scale/agaricus-lepiota.data.txt') # loading datasets in the svmlight/libsvm format.\n",
    "xgm = xgb.XGBClassifier(max_depth=3)\n",
    "xgm.fit(X_train, y_train)\n",
    "y_pred = xgm.predict(X_train)\n",
    "predictions = [round(value) for value in y_pred]\n",
    "# evaluate predictions\n",
    "accuracy = accuracy_score(y_train, predictions)\n",
    "print(xgm)\n",
    "print(\"XGBoost Accuracy: %.2f%%\" % (accuracy * 100.0))"
   ]
  },
  {
   "cell_type": "code",
   "execution_count": null,
   "metadata": {
    "collapsed": true
   },
   "outputs": [],
   "source": []
  }
 ],
 "metadata": {
  "kernelspec": {
   "display_name": "Python 3",
   "language": "python",
   "name": "python3"
  },
  "language_info": {
   "codemirror_mode": {
    "name": "ipython",
    "version": 3
   },
   "file_extension": ".py",
   "mimetype": "text/x-python",
   "name": "python",
   "nbconvert_exporter": "python",
   "pygments_lexer": "ipython3",
   "version": "3.6.2"
  }
 },
 "nbformat": 4,
 "nbformat_minor": 2
}
